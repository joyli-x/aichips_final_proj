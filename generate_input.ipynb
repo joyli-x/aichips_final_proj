{
 "cells": [
  {
   "cell_type": "code",
   "execution_count": 6,
   "metadata": {},
   "outputs": [],
   "source": [
    "import numpy as np"
   ]
  },
  {
   "cell_type": "code",
   "execution_count": 7,
   "metadata": {},
   "outputs": [
    {
     "name": "stdout",
     "output_type": "stream",
     "text": [
      "Matrix A:\n",
      " [[  2   5 -10  -7  -7  -3  -1   9   8  -6  -4   2  -9  -4  -3   4]\n",
      " [  7  -5   3  -2  -1  10   9   6   9  -5   5   5 -10   8  -7   7]\n",
      " [  9   9   9   4  -3 -10  -9  -1 -10   0  10  -7   1   8  -8 -10]\n",
      " [-10  -6  -5  -4  -2  10   7   5  -6  -1   0  -9  -9  -3  -1  -7]\n",
      " [ -4   1   4   8 -10   4  -7   2   0  10   1  -6  -4  -6   5  10]\n",
      " [ -7   2  -6  10  -2   4   5  10  -7   5   3   6   7  -5  -1  -7]\n",
      " [-10  -5 -10   7   8  -6  -8   6  -7  -8   0   3   6  -3  -1 -10]\n",
      " [  0   8   1  -8  -8  -7  -7   8   4  -7  10   7   8   4  -1  -9]\n",
      " [ -6   0   1  -2   1  -8   9   6 -10 -10  -4   9   4   0   9  -2]\n",
      " [  3  -8  -7  -8   1   3   6  -2  -2   9  -2  -8  10  -7   2   4]\n",
      " [-10  -6  -7   3   1   3   3   1   6   4   6   9  -9  -2 -10  -6]\n",
      " [ -4   3  -3   5  -1   8  -2   5   1  -4   5  -9   2  -7   8   5]\n",
      " [ -7   0   2  -4  -7  -5   1 -10   1  -2  10   0   1  -5   5  -2]\n",
      " [ -8   9   9   4  10  -7  -7  -3  -1  -1  -1  -7   4   8   2  -7]\n",
      " [ -1   0   3  -3  -3  -9   2  -8  -8  -9  -5  -2  -6 -10   1  -8]\n",
      " [ -5   6  -2  -9   7   6  -7  -2  10  -6   6  -7  -3  -7   8   7]]\n",
      "Matrix B:\n",
      " [[ -9   8   7  10  -8  -5  -5   2   2  -8   5  -3  -3   1   7  -4]\n",
      " [ -3   8   1   9   7  -1   4  -1   8 -10  -1   1   7  -1 -10   6]\n",
      " [  0  -6  10  -7   9  -2   4 -10   9  -2  -3   3   7  10 -10   1]\n",
      " [ -6 -10   0   4  10   8  -6  -7   9  -3  -2   3  -5 -10  -2   5]\n",
      " [  5   1  -6  -3   3   0  10   4   7   9  -7  -1   8  -8   9   1]\n",
      " [  8   3  -9  -4   0   6   6  -7   7   0  -1   2   3  -4  -4  -3]\n",
      " [ -2   3  -3   6   5  -2  -7  -4   7  -3  10  -8   6   8   3  -6]\n",
      " [ -6   2   7  10  -9  -5  -9   9   9  -3  -1   7  -1 -10   9  -6]\n",
      " [  7  10   6  -7   0  -9  10  -6  -6   6   6   5   0   3  -2   1]\n",
      " [ 10  -4  -1   5  -7   9   2   8   7   0  -8  -9   1  -7   2  -6]\n",
      " [ -9   7 -10  -3  -6  -7  -5  -4  -7  -8  -2  -9  -6 -10   3   9]\n",
      " [ -1  -5  -9  -3  -2  10  -3  -7   2  -7  -4  10  -3   9 -10  -5]\n",
      " [  1  -1   9  -3  -5  -2   1   4 -10  -2   9  -4   0   9  -8 -10]\n",
      " [  9   4 -10   9  -4  -9   2   8   3  -1  -6   7  -7  -8  10   3]\n",
      " [  5  -6  -1  -6   7   8   3   3  -8  -7  -1   2   5  -8   9  -4]\n",
      " [  4   6   5  -2 -10   0   1   3  -3  -4   3   5  -1  -4   1   8]]\n",
      "Product of matrix A and B:\n",
      " [[  0 286 112 145   0   0   0  67   0   0 136 192   0  20  54  51]\n",
      " [  3 332   0  85   0   0   0   0 208   0  70 180   0   0 146  81]\n",
      " [  0  12  80 307  28   0   0  59 128   0   0   0   0   0   0 215]\n",
      " [ 46   0   0   7  82  47   0  10 122 191   0   0  73   0 182   0]\n",
      " [ 73   0 175   0   0 228   0   0  38   0   0  12   0   0   0 135]\n",
      " [  0   0   0 151  28 259   0   0 189   0   0   0   0   0   0   0]\n",
      " [  0   0   0   0  80 109   0 120   0 182   0  72   0   0  63   0]\n",
      " [  0 167  62  45   0   0   0  20   0   0  44 105   0 146   0   0]\n",
      " [  0   0   0  11 170  98   0  40   0   0  69 126 101 193  19   0]\n",
      " [149  50 127   0   0  51  15 231   0 108 206   0  81  62 152   0]\n",
      " [ 25   0   0   0   0  87   0   0 104 181   0   2   0   0   0  47]\n",
      " [  0  45  66   0  58  43  18   0   0   0  81   0  63   0  46  95]\n",
      " [  0   0   0   0 132   3  10   0   0   0  71   0   0 171   0 114]\n",
      " [104   0  33   0 329   0 255  63  99 113   0  35 137   0   0 157]\n",
      " [  0   0  94   0 332  73   0   0   0  55  73   0 118 336   0  25]\n",
      " [155 280   1   0  27   0 361   0   0  91  22  29 183   0  32 220]]\n"
     ]
    }
   ],
   "source": [
    "# 设置随机种子（可选）用于复现结果\n",
    "np.random.seed(0)\n",
    "\n",
    "# 初始化两个16x16的整数矩阵，值的范围在[-10, 10] （为了方便肉眼dubug）\n",
    "matrix_A = np.random.randint(-10, 11, size=(16, 16))\n",
    "matrix_B = np.random.randint(-10, 11, size=(16, 16))\n",
    "# matrix_A = np.zeros((16, 16), dtype=np.int32)\n",
    "# matrix_B = np.zeros((16, 16), dtype=np.int32)\n",
    "# matrix_A[0][0] = -4;\n",
    "# matrix_A[0][1] = 2;\n",
    "# matrix_B[0][0] = 1;\n",
    "# matrix_B[0][1] = 15;\n",
    "\n",
    "# 计算两个矩阵的乘积\n",
    "product_matrix = np.dot(matrix_A, matrix_B)\n",
    "# relu\n",
    "product_matrix[product_matrix < 0] = 0\n",
    "\n",
    "# 将两个矩阵的值按照16进制存入对应文件\n",
    "def save_to_hex_file(matrix, filename):\n",
    "    with open(filename, 'w') as file:\n",
    "        for row in matrix:\n",
    "            for value in row:\n",
    "                # 将数字转换为16进制，并去掉\"0x\"前缀，同时保证负号的正确表示\n",
    "                hex_value = format(value if value >= 0 else value & 0xFFFFFFFF, '08x')\n",
    "                file.write(hex_value + '\\n')\n",
    "\n",
    "save_to_hex_file(matrix_A, 'input_A.hex')\n",
    "save_to_hex_file(matrix_B, 'input_B.hex')\n",
    "\n",
    "# 输出乘积矩阵，检查结果（可选）\n",
    "print('Matrix A:\\n', matrix_A)\n",
    "print('Matrix B:\\n', matrix_B)\n",
    "print('Product of matrix A and B:\\n', product_matrix)\n"
   ]
  },
  {
   "cell_type": "code",
   "execution_count": 8,
   "metadata": {},
   "outputs": [],
   "source": [
    "def change_file(file_name):\n",
    "    '''\n",
    "    每行作为一个32位整数读入，最终将256个数字变为16*16的矩阵输出\n",
    "    '''\n",
    "    with open(file_name, 'r') as file:\n",
    "        lines = file.readlines()\n",
    "        lines = [int(line.strip()) for line in lines]\n",
    "        matrix = np.array(lines).reshape((16, 16))\n",
    "        return matrix"
   ]
  },
  {
   "cell_type": "code",
   "execution_count": 10,
   "metadata": {},
   "outputs": [],
   "source": [
    "def check():\n",
    "    gpu_result = change_file('result.txt')\n",
    "\n",
    "    # 判断结果是否正确\n",
    "    if np.allclose(product_matrix, gpu_result):\n",
    "        print('Correct!')"
   ]
  },
  {
   "cell_type": "code",
   "execution_count": 11,
   "metadata": {},
   "outputs": [
    {
     "name": "stdout",
     "output_type": "stream",
     "text": [
      "Correct!\n"
     ]
    }
   ],
   "source": [
    "check()"
   ]
  }
 ],
 "metadata": {
  "kernelspec": {
   "display_name": "base",
   "language": "python",
   "name": "python3"
  },
  "language_info": {
   "codemirror_mode": {
    "name": "ipython",
    "version": 3
   },
   "file_extension": ".py",
   "mimetype": "text/x-python",
   "name": "python",
   "nbconvert_exporter": "python",
   "pygments_lexer": "ipython3",
   "version": "3.9.12"
  }
 },
 "nbformat": 4,
 "nbformat_minor": 2
}
